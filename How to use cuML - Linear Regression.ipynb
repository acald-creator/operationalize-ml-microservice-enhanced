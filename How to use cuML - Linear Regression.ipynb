{
 "cells": [
  {
   "cell_type": "code",
   "execution_count": 5,
   "id": "nonprofit-constraint",
   "metadata": {},
   "outputs": [],
   "source": [
    "from sklearn.tree import DecisionTreeRegressor\n",
    "from sklearn.model_selection import learning_curve\n",
    "from sklearn.model_selection import validation_curve\n",
    "from sklearn.model_selection import ShuffleSplit, train_test_split"
   ]
  },
  {
   "cell_type": "code",
   "execution_count": 6,
   "id": "abstract-treat",
   "metadata": {},
   "outputs": [],
   "source": [
    "import cuml\n",
    "from cuml import make_regression, train_test_split\n",
    "from cuml.metrics.regression import r2_score\n",
    "from cuml.linear_model import LinearRegression as cuLR\n",
    "from sklearn.linear_model import LinearRegression as skLR\n",
    "import cudf"
   ]
  },
  {
   "cell_type": "code",
   "execution_count": 3,
   "id": "charitable-addition",
   "metadata": {},
   "outputs": [],
   "source": [
    "# Testing ground for cuML\n",
    "n_samples = 2**19\n",
    "n_features = 399\n",
    "random_state = 23"
   ]
  },
  {
   "cell_type": "code",
   "execution_count": 7,
   "id": "worth-relation",
   "metadata": {},
   "outputs": [
    {
     "name": "stdout",
     "output_type": "stream",
     "text": [
      "CPU times: user 1.11 s, sys: 138 ms, total: 1.25 s\n",
      "Wall time: 1.27 s\n"
     ]
    }
   ],
   "source": [
    "%%time\n",
    "X, y = make_regression(n_samples=n_samples, n_features=n_features, random_state=random_state)\n",
    "\n",
    "X = cudf.DataFrame(X)\n",
    "y = cudf.DataFrame(y)[0]\n",
    "\n",
    "X_cudf, X_cudf_test, y_cudf, y_cudf_test = train_test_split(X, y, test_size=0.2, random_state=random_state)"
   ]
  },
  {
   "cell_type": "code",
   "execution_count": 8,
   "id": "growing-assault",
   "metadata": {},
   "outputs": [],
   "source": [
    "X_train = X_cudf.to_pandas()\n",
    "X_test = X_cudf_test.to_pandas()\n",
    "y_train = y_cudf.to_pandas()\n",
    "y_test = y_cudf_test.to_pandas()"
   ]
  },
  {
   "cell_type": "code",
   "execution_count": 9,
   "id": "dimensional-friday",
   "metadata": {},
   "outputs": [
    {
     "name": "stdout",
     "output_type": "stream",
     "text": [
      "CPU times: user 25.7 s, sys: 2.12 s, total: 27.9 s\n",
      "Wall time: 6.52 s\n"
     ]
    },
    {
     "data": {
      "text/plain": [
       "LinearRegression(n_jobs=1, normalize=True)"
      ]
     },
     "execution_count": 9,
     "metadata": {},
     "output_type": "execute_result"
    }
   ],
   "source": [
    "%%time\n",
    "ols_sk = skLR(fit_intercept=True, normalize=True, n_jobs=1)\n",
    "\n",
    "ols_sk.fit(X_train, y_train)"
   ]
  },
  {
   "cell_type": "code",
   "execution_count": 10,
   "id": "vocal-allen",
   "metadata": {},
   "outputs": [
    {
     "name": "stdout",
     "output_type": "stream",
     "text": [
      "CPU times: user 347 ms, sys: 6.4 ms, total: 354 ms\n",
      "Wall time: 59.3 ms\n"
     ]
    }
   ],
   "source": [
    "%%time\n",
    "predict_sk = ols_sk.predict(X_test)"
   ]
  },
  {
   "cell_type": "code",
   "execution_count": 11,
   "id": "viral-avatar",
   "metadata": {},
   "outputs": [
    {
     "name": "stdout",
     "output_type": "stream",
     "text": [
      "CPU times: user 1.83 ms, sys: 20.8 ms, total: 22.6 ms\n",
      "Wall time: 20.2 ms\n"
     ]
    }
   ],
   "source": [
    "%%time\n",
    "r2_score_sk = r2_score(y_test, predict_sk)"
   ]
  },
  {
   "cell_type": "code",
   "execution_count": 12,
   "id": "selective-martin",
   "metadata": {},
   "outputs": [
    {
     "name": "stdout",
     "output_type": "stream",
     "text": [
      "CPU times: user 205 ms, sys: 7.93 ms, total: 213 ms\n",
      "Wall time: 211 ms\n"
     ]
    },
    {
     "data": {
      "text/plain": [
       "LinearRegression(algorithm='eig', fit_intercept=True, normalize=True, handle=<cuml.raft.common.handle.Handle object at 0x7f2c282e8d70>, verbose=4, output_type='input')"
      ]
     },
     "execution_count": 12,
     "metadata": {},
     "output_type": "execute_result"
    }
   ],
   "source": [
    "%%time\n",
    "ols_cuml = cuLR(fit_intercept=True, normalize=True, algorithm='eig')\n",
    "\n",
    "ols_cuml.fit(X_cudf, y_cudf)"
   ]
  },
  {
   "cell_type": "code",
   "execution_count": 13,
   "id": "voluntary-instrumentation",
   "metadata": {},
   "outputs": [
    {
     "name": "stdout",
     "output_type": "stream",
     "text": [
      "CPU times: user 47.8 ms, sys: 2.33 ms, total: 50.1 ms\n",
      "Wall time: 48.3 ms\n"
     ]
    }
   ],
   "source": [
    "%%time\n",
    "predict_cuml = ols_cuml.predict(X_cudf_test)"
   ]
  },
  {
   "cell_type": "code",
   "execution_count": 14,
   "id": "continuing-december",
   "metadata": {},
   "outputs": [
    {
     "name": "stdout",
     "output_type": "stream",
     "text": [
      "CPU times: user 2.55 ms, sys: 0 ns, total: 2.55 ms\n",
      "Wall time: 2.38 ms\n"
     ]
    }
   ],
   "source": [
    "%%time\n",
    "r2_score_cuml = r2_score(y_cudf_test, predict_cuml)"
   ]
  },
  {
   "cell_type": "code",
   "execution_count": 15,
   "id": "rural-powder",
   "metadata": {},
   "outputs": [
    {
     "name": "stdout",
     "output_type": "stream",
     "text": [
      "R^2 score (SKL):  1.0\n",
      "R^2 score (cuML): 1.0\n"
     ]
    }
   ],
   "source": [
    "print(\"R^2 score (SKL):  %s\" % r2_score_sk)\n",
    "print(\"R^2 score (cuML): %s\" % r2_score_cuml)"
   ]
  },
  {
   "cell_type": "code",
   "execution_count": null,
   "id": "elder-fifth",
   "metadata": {},
   "outputs": [],
   "source": []
  }
 ],
 "metadata": {
  "kernelspec": {
   "display_name": "Python 3",
   "language": "python",
   "name": "python3"
  },
  "language_info": {
   "codemirror_mode": {
    "name": "ipython",
    "version": 3
   },
   "file_extension": ".py",
   "mimetype": "text/x-python",
   "name": "python",
   "nbconvert_exporter": "python",
   "pygments_lexer": "ipython3",
   "version": "3.8.5"
  }
 },
 "nbformat": 4,
 "nbformat_minor": 5
}
